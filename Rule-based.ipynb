{
 "cells": [
  {
   "cell_type": "code",
   "execution_count": 12,
   "id": "5bd30db3-841c-47d2-8db5-c550a99d0dba",
   "metadata": {},
   "outputs": [
    {
     "name": "stdout",
     "output_type": "stream",
     "text": [
      "['medspacy_pyrush', 'medspacy_target_matcher', 'medspacy_context']\n"
     ]
    },
    {
     "data": {
      "text/html": [
       "<span class=\"tex2jax_ignore\"><div class=\"entities\" style=\"line-height: 2.5; direction: ltr\"></br>acute displaced comminuted \n",
       "<mark class=\"entity\" style=\"background: #1f77b4; padding: 0.45em 0.6em; margin: 0 0.25em; line-height: 1; border-radius: 0.35em;\">\n",
       "    fracture\n",
       "    <span style=\"font-size: 0.8em; font-weight: bold; line-height: 1; border-radius: 0.35em; vertical-align: middle; margin-left: 0.5rem\">ACUTE PROBLEM</span>\n",
       "</mark>\n",
       " calcaneus images reviewed interpreted radiologists</br></div></span>"
      ],
      "text/plain": [
       "<IPython.core.display.HTML object>"
      ]
     },
     "metadata": {},
     "output_type": "display_data"
    }
   ],
   "source": [
    "import medspacy\n",
    "from medspacy.ner import TargetRule\n",
    "from medspacy.visualization import visualize_ent\n",
    "\n",
    "# Load medspacy model\n",
    "nlp = medspacy.load()\n",
    "print(nlp.pipe_names)\n",
    "\n",
    "text = \"\"\"\n",
    "acute displaced comminuted fracture calcaneus images reviewed interpreted radiologists\n",
    "\"\"\"\n",
    "\n",
    "#text = \"1. Positive for acute PE. 2. Wedge-shaped pulmonary infarct in the right lower lobe.\"\n",
    "# Add rules for target concept extraction\n",
    "target_matcher = nlp.get_pipe(\"medspacy_target_matcher\")\n",
    "target_rules = [\n",
    "    TargetRule(\"fracture\", \"ACUTE PROBLEM\"),\n",
    "    TargetRule(\"pulmonary embolism\", \"ACUTE PROBLEM\"),\n",
    "    TargetRule(\"pulmonary embolism\", \"ACUTE PROBLEM\", pattern=[{\"LOWER\": \"pe\"}]),\n",
    "    TargetRule(\"acute fracture\", \"ACUTE PROBLEM\", pattern=[{\"LOWER\": \"fracture\"}]),\n",
    "    TargetRule(\"pneumonia\", \"PROBLEM\"),\n",
    "    TargetRule(\"Type II Diabetes Mellitus\", \"PROBLEM\", \n",
    "              pattern=[\n",
    "                  {\"LOWER\": \"type\"},\n",
    "                  {\"LOWER\": {\"IN\": [\"2\", \"ii\", \"two\"]}},\n",
    "                  {\"LOWER\": {\"IN\": [\"dm\", \"diabetes\"]}},\n",
    "                  {\"LOWER\": \"mellitus\", \"OP\": \"?\"}\n",
    "              ]),\n",
    "    TargetRule(\"warfarin\", \"MEDICATION\")\n",
    "]\n",
    "target_matcher.add(target_rules)\n",
    "\n",
    "doc = nlp(text)\n",
    "visualize_ent(doc)"
   ]
  },
  {
   "cell_type": "code",
   "execution_count": null,
   "id": "57ad75ce-28c4-4ef6-8494-e122d57c6858",
   "metadata": {},
   "outputs": [],
   "source": [
    "## sample reports to test\n",
    "\n",
    "##1. Positive for acute pulmonary embolism. 2. Wedge-shaped pulmonary infarct in the right lower lobe.\n",
    "\n"
   ]
  },
  {
   "cell_type": "code",
   "execution_count": null,
   "id": "40a2b7b4-a42a-459b-b052-fb5ce1f5dfcd",
   "metadata": {},
   "outputs": [],
   "source": []
  }
 ],
 "metadata": {
  "kernelspec": {
   "display_name": "Python 3 (ipykernel)",
   "language": "python",
   "name": "python3"
  },
  "language_info": {
   "codemirror_mode": {
    "name": "ipython",
    "version": 3
   },
   "file_extension": ".py",
   "mimetype": "text/x-python",
   "name": "python",
   "nbconvert_exporter": "python",
   "pygments_lexer": "ipython3",
   "version": "3.8.12"
  }
 },
 "nbformat": 4,
 "nbformat_minor": 5
}
