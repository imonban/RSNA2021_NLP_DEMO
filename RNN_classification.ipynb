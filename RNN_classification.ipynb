{
 "cells": [
  {
   "cell_type": "markdown",
   "id": "084a7ed1-4196-444e-b0f9-501b01d2de7f",
   "metadata": {},
   "source": [
    "# Sequential model"
   ]
  },
  {
   "cell_type": "markdown",
   "id": "9c225100-ffe8-4cde-bc34-fa93642b3b5a",
   "metadata": {},
   "source": [
    "## load the library"
   ]
  },
  {
   "cell_type": "code",
   "execution_count": 21,
   "id": "55ab5170-bba5-4acd-93b6-597f30adabe5",
   "metadata": {},
   "outputs": [],
   "source": [
    "import itertools\n",
    "import os\n",
    "\n",
    "%matplotlib inline\n",
    "import matplotlib.pyplot as plt\n",
    "import numpy as np\n",
    "import pandas as pd\n",
    "import tensorflow as tf\n",
    "\n",
    "tf.compat.v1.disable_eager_execution()\n",
    "for device in tf.config.experimental.list_physical_devices('GPU'):\n",
    "    tf.config.experimental.set_memory_growth(device, True)\n",
    "from tensorflow.keras.utils import to_categorical\n",
    "from sklearn.preprocessing import LabelBinarizer, LabelEncoder\n",
    "from sklearn.metrics import confusion_matrix\n",
    "from keras import utils as np_utils\n",
    "from tensorflow import keras\n",
    "from tensorflow.keras import Sequential\n",
    "from tensorflow.keras.layers import Conv2D, Flatten, Dense, Activation, Dropout\n",
    "from keras.preprocessing import text, sequence\n",
    "from keras import utils"
   ]
  },
  {
   "cell_type": "markdown",
   "id": "10a958c1-f2ba-46e5-927c-084bcb04b4b9",
   "metadata": {},
   "source": [
    "## Data preperation"
   ]
  },
  {
   "cell_type": "code",
   "execution_count": 22,
   "id": "c94869ac-a4df-49e8-8e59-599d6de68efe",
   "metadata": {},
   "outputs": [
    {
     "name": "stdout",
     "output_type": "stream",
     "text": [
      "{'Non-Acute': 0, 'Acute': 1}\n"
     ]
    }
   ],
   "source": [
    "## report read\n",
    "reports = pd.read_excel('Reports_data.xlsx') \n",
    "#'report_body' has be list as field which will store the radiology reports\n",
    "reports = reports.fillna('N/A')\n",
    "reports = reports[reports['Annotation'].isin(['Non-Acute', 'Acute'])]\n",
    "\n",
    "##############\n",
    "possible_labels = reports.Annotation.unique()\n",
    "\n",
    "label_dict = {}\n",
    "for index, possible_label in enumerate(possible_labels):\n",
    "    label_dict[possible_label] = index\n",
    "print(label_dict)"
   ]
  },
  {
   "cell_type": "code",
   "execution_count": 23,
   "id": "8ee6b318-e6bc-498d-9bea-82675c121178",
   "metadata": {},
   "outputs": [
    {
     "name": "stdout",
     "output_type": "stream",
     "text": [
      "Train size: 96263\n",
      "Test size: 41256\n"
     ]
    }
   ],
   "source": [
    "train_size = int(len(reports) * .7)\n",
    "print (\"Train size: %d\" % train_size)\n",
    "print (\"Test size: %d\" % (len(reports) - train_size))"
   ]
  },
  {
   "cell_type": "code",
   "execution_count": 24,
   "id": "6cd39006-def7-4466-a14f-044e620ea06f",
   "metadata": {},
   "outputs": [
    {
     "data": {
      "text/html": [
       "<div>\n",
       "<style scoped>\n",
       "    .dataframe tbody tr th:only-of-type {\n",
       "        vertical-align: middle;\n",
       "    }\n",
       "\n",
       "    .dataframe tbody tr th {\n",
       "        vertical-align: top;\n",
       "    }\n",
       "\n",
       "    .dataframe thead th {\n",
       "        text-align: right;\n",
       "    }\n",
       "</style>\n",
       "<table border=\"1\" class=\"dataframe\">\n",
       "  <thead>\n",
       "    <tr style=\"text-align: right;\">\n",
       "      <th></th>\n",
       "      <th>Unnamed: 0</th>\n",
       "      <th>Unnamed: 0.1</th>\n",
       "      <th>Unnamed: 0.1.1</th>\n",
       "      <th>modality</th>\n",
       "      <th>impression</th>\n",
       "      <th>Annotation</th>\n",
       "      <th>impression_cleaned</th>\n",
       "    </tr>\n",
       "  </thead>\n",
       "  <tbody>\n",
       "    <tr>\n",
       "      <th>0</th>\n",
       "      <td>0</td>\n",
       "      <td>0</td>\n",
       "      <td>0</td>\n",
       "      <td>DX</td>\n",
       "      <td>1 ct evident acute abdominopelvic abnormality ...</td>\n",
       "      <td>Non-Acute</td>\n",
       "      <td>1 ct evident acute abdominopelvic abnormality ...</td>\n",
       "    </tr>\n",
       "    <tr>\n",
       "      <th>1</th>\n",
       "      <td>1</td>\n",
       "      <td>1</td>\n",
       "      <td>1</td>\n",
       "      <td>MR</td>\n",
       "      <td>acute fracture dislocation right humerus right...</td>\n",
       "      <td>Non-Acute</td>\n",
       "      <td>acute fracture dislocation right humerus right...</td>\n",
       "    </tr>\n",
       "    <tr>\n",
       "      <th>2</th>\n",
       "      <td>2</td>\n",
       "      <td>2</td>\n",
       "      <td>2</td>\n",
       "      <td>DX</td>\n",
       "      <td>moderate tricompartmental arthrosis</td>\n",
       "      <td>Non-Acute</td>\n",
       "      <td>moderate tricompartmental arthrosis</td>\n",
       "    </tr>\n",
       "    <tr>\n",
       "      <th>3</th>\n",
       "      <td>3</td>\n",
       "      <td>3</td>\n",
       "      <td>3</td>\n",
       "      <td>DX</td>\n",
       "      <td>pulmonary edema type pattern appropriate clini...</td>\n",
       "      <td>Non-Acute</td>\n",
       "      <td>pulmonary edema type pattern appropriate clini...</td>\n",
       "    </tr>\n",
       "    <tr>\n",
       "      <th>4</th>\n",
       "      <td>4</td>\n",
       "      <td>4</td>\n",
       "      <td>4</td>\n",
       "      <td>DX</td>\n",
       "      <td>acute fracture borderline widening scapholunat...</td>\n",
       "      <td>Non-Acute</td>\n",
       "      <td>acute fracture borderline widening scapholunat...</td>\n",
       "    </tr>\n",
       "    <tr>\n",
       "      <th>...</th>\n",
       "      <td>...</td>\n",
       "      <td>...</td>\n",
       "      <td>...</td>\n",
       "      <td>...</td>\n",
       "      <td>...</td>\n",
       "      <td>...</td>\n",
       "      <td>...</td>\n",
       "    </tr>\n",
       "    <tr>\n",
       "      <th>137514</th>\n",
       "      <td>138441</td>\n",
       "      <td>138441</td>\n",
       "      <td>138441</td>\n",
       "      <td>N/A</td>\n",
       "      <td>negative study acute dvt right lower extremity</td>\n",
       "      <td>Non-Acute</td>\n",
       "      <td>negative study acute dvt right lower extremity</td>\n",
       "    </tr>\n",
       "    <tr>\n",
       "      <th>137515</th>\n",
       "      <td>138442</td>\n",
       "      <td>138442</td>\n",
       "      <td>138442</td>\n",
       "      <td>N/A</td>\n",
       "      <td>acute traumatic findings chest</td>\n",
       "      <td>Non-Acute</td>\n",
       "      <td>acute traumatic findings chest</td>\n",
       "    </tr>\n",
       "    <tr>\n",
       "      <th>137516</th>\n",
       "      <td>138443</td>\n",
       "      <td>138443</td>\n",
       "      <td>138443</td>\n",
       "      <td>N/A</td>\n",
       "      <td>acute fracture traumatic malalignment</td>\n",
       "      <td>Non-Acute</td>\n",
       "      <td>acute fracture traumatic malalignment</td>\n",
       "    </tr>\n",
       "    <tr>\n",
       "      <th>137517</th>\n",
       "      <td>138444</td>\n",
       "      <td>138444</td>\n",
       "      <td>138444</td>\n",
       "      <td>N/A</td>\n",
       "      <td>acute fracture malalignment cervical spine mul...</td>\n",
       "      <td>Non-Acute</td>\n",
       "      <td>acute fracture malalignment cervical spine mul...</td>\n",
       "    </tr>\n",
       "    <tr>\n",
       "      <th>137518</th>\n",
       "      <td>138445</td>\n",
       "      <td>138445</td>\n",
       "      <td>138445</td>\n",
       "      <td>N/A</td>\n",
       "      <td>hypoventilatory changes acute findings</td>\n",
       "      <td>Non-Acute</td>\n",
       "      <td>hypoventilatory changes acute findings</td>\n",
       "    </tr>\n",
       "  </tbody>\n",
       "</table>\n",
       "<p>137519 rows × 7 columns</p>\n",
       "</div>"
      ],
      "text/plain": [
       "        Unnamed: 0  Unnamed: 0.1  Unnamed: 0.1.1 modality  \\\n",
       "0                0             0               0       DX   \n",
       "1                1             1               1       MR   \n",
       "2                2             2               2       DX   \n",
       "3                3             3               3       DX   \n",
       "4                4             4               4       DX   \n",
       "...            ...           ...             ...      ...   \n",
       "137514      138441        138441          138441      N/A   \n",
       "137515      138442        138442          138442      N/A   \n",
       "137516      138443        138443          138443      N/A   \n",
       "137517      138444        138444          138444      N/A   \n",
       "137518      138445        138445          138445      N/A   \n",
       "\n",
       "                                               impression Annotation  \\\n",
       "0       1 ct evident acute abdominopelvic abnormality ...  Non-Acute   \n",
       "1       acute fracture dislocation right humerus right...  Non-Acute   \n",
       "2                     moderate tricompartmental arthrosis  Non-Acute   \n",
       "3       pulmonary edema type pattern appropriate clini...  Non-Acute   \n",
       "4       acute fracture borderline widening scapholunat...  Non-Acute   \n",
       "...                                                   ...        ...   \n",
       "137514     negative study acute dvt right lower extremity  Non-Acute   \n",
       "137515                     acute traumatic findings chest  Non-Acute   \n",
       "137516              acute fracture traumatic malalignment  Non-Acute   \n",
       "137517  acute fracture malalignment cervical spine mul...  Non-Acute   \n",
       "137518             hypoventilatory changes acute findings  Non-Acute   \n",
       "\n",
       "                                       impression_cleaned  \n",
       "0       1 ct evident acute abdominopelvic abnormality ...  \n",
       "1       acute fracture dislocation right humerus right...  \n",
       "2                     moderate tricompartmental arthrosis  \n",
       "3       pulmonary edema type pattern appropriate clini...  \n",
       "4       acute fracture borderline widening scapholunat...  \n",
       "...                                                   ...  \n",
       "137514     negative study acute dvt right lower extremity  \n",
       "137515                     acute traumatic findings chest  \n",
       "137516              acute fracture traumatic malalignment  \n",
       "137517  acute fracture malalignment cervical spine mul...  \n",
       "137518             hypoventilatory changes acute findings  \n",
       "\n",
       "[137519 rows x 7 columns]"
      ]
     },
     "execution_count": 24,
     "metadata": {},
     "output_type": "execute_result"
    }
   ],
   "source": [
    "reports"
   ]
  },
  {
   "cell_type": "code",
   "execution_count": 25,
   "id": "3566bd35-60cf-499f-8d3d-48321e73a30f",
   "metadata": {},
   "outputs": [],
   "source": [
    "train_report = reports['impression_cleaned'][:train_size]\n",
    "train_annotation = reports['Annotation'][:train_size]\n",
    "\n",
    "test_report = reports['impression_cleaned'][train_size:]\n",
    "test_annotation = reports['Annotation'][train_size:]"
   ]
  },
  {
   "cell_type": "markdown",
   "id": "e8c3d0a6-791c-4b65-a7b8-8fedaf5f180f",
   "metadata": {},
   "source": [
    "## Model training"
   ]
  },
  {
   "cell_type": "code",
   "execution_count": 26,
   "id": "c4771fe2-f578-47b8-a7f5-9dd38aa661ee",
   "metadata": {},
   "outputs": [],
   "source": [
    "max_words = 1000\n",
    "tokenize = text.Tokenizer(num_words=max_words, char_level=False)"
   ]
  },
  {
   "cell_type": "code",
   "execution_count": 27,
   "id": "f26ebf61-656f-4225-b622-1a98d9ad4183",
   "metadata": {},
   "outputs": [],
   "source": [
    "tokenize.fit_on_texts(train_report) # only fit on train\n",
    "x_train = tokenize.texts_to_matrix(train_report)\n",
    "x_test = tokenize.texts_to_matrix(test_report)"
   ]
  },
  {
   "cell_type": "code",
   "execution_count": 28,
   "id": "00dc244a-3e65-4433-9ef1-d519dd6afadd",
   "metadata": {},
   "outputs": [],
   "source": [
    "encoder = LabelEncoder()\n",
    "encoder.fit(train_annotation)\n",
    "y_train = encoder.transform(train_annotation)\n",
    "y_test = encoder.transform(test_annotation)"
   ]
  },
  {
   "cell_type": "code",
   "execution_count": 29,
   "id": "c4bbb779-727e-4894-8627-203a8e5e9282",
   "metadata": {},
   "outputs": [],
   "source": [
    "num_classes = np.max(y_train) + 1\n",
    "y_train = to_categorical(y_train, num_classes)\n",
    "y_test =  to_categorical(y_test, num_classes)"
   ]
  },
  {
   "cell_type": "code",
   "execution_count": 30,
   "id": "e2c9fd05-0aaf-421d-b1d9-193707ce5bf4",
   "metadata": {},
   "outputs": [
    {
     "name": "stdout",
     "output_type": "stream",
     "text": [
      "x_train shape: (96263, 1000)\n",
      "x_test shape: (41256, 1000)\n",
      "y_train shape: (96263, 2)\n",
      "y_test shape: (41256, 2)\n"
     ]
    }
   ],
   "source": [
    "print('x_train shape:', x_train.shape)\n",
    "print('x_test shape:', x_test.shape)\n",
    "print('y_train shape:', y_train.shape)\n",
    "print('y_test shape:', y_test.shape)"
   ]
  },
  {
   "cell_type": "code",
   "execution_count": 31,
   "id": "837962c9-3498-44da-a94a-275c43e53a7b",
   "metadata": {},
   "outputs": [],
   "source": [
    "batch_size = 32\n",
    "epochs = 2"
   ]
  },
  {
   "cell_type": "code",
   "execution_count": 32,
   "id": "8dbfb743-d367-4e9e-b360-95ce1e6d2e44",
   "metadata": {},
   "outputs": [],
   "source": [
    "# Build the model\n",
    "model = Sequential()\n",
    "model.add(Dense(512, input_shape=(1000,)))\n",
    "model.add(Activation('relu'))\n",
    "model.add(Dropout(0.5))\n",
    "model.add(Dense(num_classes))\n",
    "model.add(Activation('softmax'))\n",
    "\n",
    "model.compile(loss='categorical_crossentropy',\n",
    "              optimizer='adam',\n",
    "              metrics=['accuracy'])"
   ]
  },
  {
   "cell_type": "code",
   "execution_count": 33,
   "id": "e3485379-4b9e-4ab8-960a-4f61578ebf98",
   "metadata": {},
   "outputs": [
    {
     "name": "stdout",
     "output_type": "stream",
     "text": [
      "Train on 86636 samples, validate on 9627 samples\n",
      "Epoch 1/2\n",
      "86112/86636 [============================>.] - ETA: 0s - loss: 0.1199 - accuracy: 0.9534"
     ]
    },
    {
     "name": "stderr",
     "output_type": "stream",
     "text": [
      "`Model.state_updates` will be removed in a future version. This property should not be used in TensorFlow 2.0, as `updates` are applied automatically.\n"
     ]
    },
    {
     "name": "stdout",
     "output_type": "stream",
     "text": [
      "86636/86636 [==============================] - 3s 40us/sample - loss: 0.1198 - accuracy: 0.9534 - val_loss: 0.0973 - val_accuracy: 0.9586\n",
      "Epoch 2/2\n",
      "86636/86636 [==============================] - 3s 38us/sample - loss: 0.0901 - accuracy: 0.9640 - val_loss: 0.0975 - val_accuracy: 0.9606\n"
     ]
    }
   ],
   "source": [
    "history = model.fit(x_train, y_train,\n",
    "                    batch_size=batch_size,\n",
    "                    epochs=epochs,\n",
    "                    verbose=1,\n",
    "                    validation_split=0.1)"
   ]
  },
  {
   "cell_type": "code",
   "execution_count": 34,
   "id": "f51345e6-a916-47b2-9115-bd034ea27ad7",
   "metadata": {},
   "outputs": [
    {
     "name": "stdout",
     "output_type": "stream",
     "text": [
      "Test accuracy: 0.9596665\n"
     ]
    }
   ],
   "source": [
    "score = model.evaluate(x_test, y_test,\n",
    "                       batch_size=batch_size, verbose=1)\n",
    "print('Test accuracy:', score[1])"
   ]
  },
  {
   "cell_type": "code",
   "execution_count": 35,
   "id": "2cf07b25-7693-48f9-8bc2-bc3ad368cf26",
   "metadata": {},
   "outputs": [],
   "source": [
    "y_prob = model.predict(x_test)\n",
    "y_pred =np.argmax(y_prob,axis=1)"
   ]
  },
  {
   "cell_type": "code",
   "execution_count": 36,
   "id": "2737fc5d-d2d5-4d33-8c27-a127c8fecb72",
   "metadata": {},
   "outputs": [
    {
     "data": {
      "text/plain": [
       "array([1., 1., 1., ..., 1., 1., 1.], dtype=float32)"
      ]
     },
     "execution_count": 36,
     "metadata": {},
     "output_type": "execute_result"
    }
   ],
   "source": [
    "y_test[:,1]"
   ]
  },
  {
   "cell_type": "code",
   "execution_count": 37,
   "id": "100fc095-4e34-47f7-9b37-ba1d1891580e",
   "metadata": {},
   "outputs": [
    {
     "data": {
      "text/plain": [
       "array([0, 1, 1, ..., 1, 1, 1])"
      ]
     },
     "execution_count": 37,
     "metadata": {},
     "output_type": "execute_result"
    }
   ],
   "source": [
    "y_pred"
   ]
  },
  {
   "cell_type": "markdown",
   "id": "ecc3a94d-eb00-430f-8057-c10e015fbd5a",
   "metadata": {},
   "source": [
    "## Performance evaluation"
   ]
  },
  {
   "cell_type": "code",
   "execution_count": 38,
   "id": "0430506f-10d2-4998-a4c5-6a910d0713a6",
   "metadata": {},
   "outputs": [
    {
     "name": "stdout",
     "output_type": "stream",
     "text": [
      "              precision    recall  f1-score   support\n",
      "\n",
      "         0.0       0.77      0.61      0.68      2899\n",
      "         1.0       0.97      0.99      0.98     38357\n",
      "\n",
      "    accuracy                           0.96     41256\n",
      "   macro avg       0.87      0.80      0.83     41256\n",
      "weighted avg       0.96      0.96      0.96     41256\n",
      "\n"
     ]
    }
   ],
   "source": [
    "from sklearn.metrics import classification_report\n",
    "print(classification_report(y_test[:,1], y_pred))"
   ]
  },
  {
   "cell_type": "code",
   "execution_count": 39,
   "id": "fee36ef4-fd69-4aab-b2b4-c884ca72ac6f",
   "metadata": {},
   "outputs": [
    {
     "data": {
      "text/plain": [
       "'1.19.5'"
      ]
     },
     "execution_count": 39,
     "metadata": {},
     "output_type": "execute_result"
    }
   ],
   "source": [
    "import numpy as np\n",
    "np.__version__"
   ]
  },
  {
   "cell_type": "markdown",
   "id": "ac522d18-8f5c-47b5-9f96-05fc1a79c518",
   "metadata": {},
   "source": [
    "## Explaination"
   ]
  },
  {
   "cell_type": "code",
   "execution_count": 40,
   "id": "73c5a182-ab2d-453c-9846-39dcd99675f1",
   "metadata": {},
   "outputs": [
    {
     "name": "stderr",
     "output_type": "stream",
     "text": [
      "Your TensorFlow version is newer than 2.4.0 and so graph support has been removed in eager mode and some static graphs may not be supported. See PR #1483 for discussion.\n",
      "You have provided over 5k background samples! For better performance consider using smaller random sample.\n"
     ]
    }
   ],
   "source": [
    "import shap\n",
    "\n",
    "attrib_data = x_train[:10000]\n",
    "explainer = shap.DeepExplainer(model, attrib_data)\n",
    "num_explanations = 100\n",
    "shap_vals = explainer.shap_values(x_test[:num_explanations])"
   ]
  },
  {
   "cell_type": "code",
   "execution_count": 41,
   "id": "cb50d767-71f5-4d9e-b644-8ee58f46f669",
   "metadata": {},
   "outputs": [
    {
     "data": {
      "image/png": "[encoded data removed]",
      "text/plain": [
       "<Figure size 576x684 with 1 Axes>"
      ]
     },
     "metadata": {
      "needs_background": "light"
     },
     "output_type": "display_data"
    }
   ],
   "source": [
    "words = dict(tokenize.word_index.items())\n",
    "word_lookup = list()\n",
    "for i in words.keys():\n",
    "  word_lookup.append(i)\n",
    "\n",
    "word_lookup = [''] + word_lookup\n",
    "shap.summary_plot(shap_vals, feature_names=word_lookup, class_names=['Acute', 'Non-acute'])"
   ]
  },
  {
   "cell_type": "code",
   "execution_count": null,
   "id": "2cdb774a-9ff0-4aa0-9029-42040fd98be0",
   "metadata": {},
   "outputs": [],
   "source": []
  }
 ],
 "metadata": {
  "kernelspec": {
   "display_name": "Python 3 (ipykernel)",
   "language": "python",
   "name": "python3"
  },
  "language_info": {
   "codemirror_mode": {
    "name": "ipython",
    "version": 3
   },
   "file_extension": ".py",
   "mimetype": "text/x-python",
   "name": "python",
   "nbconvert_exporter": "python",
   "pygments_lexer": "ipython3",
   "version": "3.8.12"
  }
 },
 "nbformat": 4,
 "nbformat_minor": 5
}
